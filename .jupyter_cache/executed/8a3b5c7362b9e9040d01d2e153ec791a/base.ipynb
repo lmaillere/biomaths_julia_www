{
 "cells": [
  {
   "cell_type": "code",
   "execution_count": 1,
   "id": "4a2e1601",
   "metadata": {},
   "outputs": [],
   "source": [
    "import IJulia\n",
    "\n",
    "# The julia kernel has built in support for Revise.jl, so this is the \n",
    "# recommended approach for long-running sessions:\n",
    "# https://github.com/JuliaLang/IJulia.jl/blob/9b10fa9b879574bbf720f5285029e07758e50a5e/src/kernel.jl#L46-L51\n",
    "\n",
    "# Users should enable revise within .julia/config/startup_ijulia.jl:\n",
    "# https://timholy.github.io/Revise.jl/stable/config/#Using-Revise-automatically-within-Jupyter/IJulia-1\n",
    "\n",
    "# clear console history\n",
    "IJulia.clear_history()\n",
    "\n",
    "fig_width = 7\n",
    "fig_height = 5\n",
    "fig_format = :retina\n",
    "fig_dpi = 96\n",
    "\n",
    "# no retina format type, use svg for high quality type/marks\n",
    "if fig_format == :retina\n",
    "  fig_format = :svg\n",
    "elseif fig_format == :pdf\n",
    "  fig_dpi = 96\n",
    "  # Enable PDF support for IJulia\n",
    "  IJulia.register_mime(MIME(\"application/pdf\"))\n",
    "end\n",
    "\n",
    "# convert inches to pixels\n",
    "fig_width = fig_width * fig_dpi\n",
    "fig_height = fig_height * fig_dpi\n",
    "\n",
    "# Intialize Plots w/ default fig width/height\n",
    "try\n",
    "  import Plots\n",
    "\n",
    "  # Plots.jl doesn't support PDF output for versions < 1.28.1\n",
    "  # so use png (if the DPI remains the default of 300 then set to 96)\n",
    "  if (Plots._current_plots_version < v\"1.28.1\") & (fig_format == :pdf)\n",
    "    Plots.gr(size=(fig_width, fig_height), fmt = :png, dpi = fig_dpi)\n",
    "  else\n",
    "    Plots.gr(size=(fig_width, fig_height), fmt = fig_format, dpi = fig_dpi)\n",
    "  end\n",
    "catch e\n",
    "  # @warn \"Plots init\" exception=(e, catch_backtrace())\n",
    "end\n",
    "\n",
    "# Initialize CairoMakie with default fig width/height\n",
    "try\n",
    "  import CairoMakie\n",
    "  \n",
    "  CairoMakie.activate!(type = string(fig_format))\n",
    "  CairoMakie.update_theme!(resolution=(fig_width, fig_height))\n",
    "catch e\n",
    "    # @warn \"CairoMakie init\" exception=(e, catch_backtrace())\n",
    "end\n",
    "  \n",
    "# Set run_path if specified\n",
    "try\n",
    "  run_path = raw\"/home/ludo/ownCloud/Programmes/julia/biomaths_julia_www\"\n",
    "  if !isempty(run_path)\n",
    "    cd(run_path)\n",
    "  end\n",
    "catch e\n",
    "  @warn \"Run path init:\" exception=(e, catch_backtrace())\n",
    "end\n",
    "\n",
    "\n",
    "# emulate old Pkg.installed beahvior, see\n",
    "# https://discourse.julialang.org/t/how-to-use-pkg-dependencies-instead-of-pkg-installed/36416/9\n",
    "import Pkg\n",
    "function isinstalled(pkg::String)\n",
    "  any(x -> x.name == pkg && x.is_direct_dep, values(Pkg.dependencies()))\n",
    "end\n",
    "\n",
    "# ojs_define\n",
    "if isinstalled(\"JSON\") && isinstalled(\"DataFrames\")\n",
    "  import JSON, DataFrames\n",
    "  global function ojs_define(; kwargs...)\n",
    "    convert(x) = x\n",
    "    convert(x::DataFrames.AbstractDataFrame) = Tables.rows(x)\n",
    "    content = Dict(\"contents\" => [Dict(\"name\" => k, \"value\" => convert(v)) for (k, v) in kwargs])\n",
    "    tag = \"<script type='ojs-define'>$(JSON.json(content))</script>\"\n",
    "    IJulia.display(MIME(\"text/html\"), tag)\n",
    "  end\n",
    "elseif isinstalled(\"JSON\")\n",
    "  import JSON\n",
    "  global function ojs_define(; kwargs...)\n",
    "    content = Dict(\"contents\" => [Dict(\"name\" => k, \"value\" => v) for (k, v) in kwargs])\n",
    "    tag = \"<script type='ojs-define'>$(JSON.json(content))</script>\"\n",
    "    IJulia.display(MIME(\"text/html\"), tag)\n",
    "  end\n",
    "else\n",
    "  global function ojs_define(; kwargs...)\n",
    "    @warn \"JSON package not available. Please install the JSON.jl package to use ojs_define.\"\n",
    "  end\n",
    "end\n",
    "\n",
    "\n",
    "# don't return kernel dependencies (b/c Revise should take care of dependencies)\n",
    "nothing\n"
   ]
  },
  {
   "cell_type": "code",
   "execution_count": 2,
   "id": "14a352ae",
   "metadata": {},
   "outputs": [],
   "source": [
    "using Plots, DifferentialEquations, StaticArrays"
   ]
  },
  {
   "cell_type": "code",
   "execution_count": 3,
   "id": "a6ba2685",
   "metadata": {},
   "outputs": [
    {
     "data": {
      "text/plain": [
       "1-element SVector{1, Float64} with indices SOneTo(1):\n",
       " 0.1"
      ]
     },
     "execution_count": 105,
     "metadata": {},
     "output_type": "execute_result"
    }
   ],
   "source": [
    "x0 = 0.1\n",
    "etat0 = @SVector [x0]"
   ]
  },
  {
   "cell_type": "code",
   "execution_count": 4,
   "id": "67cb5dec",
   "metadata": {},
   "outputs": [
    {
     "data": {
      "text/plain": [
       "2-element Vector{Float64}:\n",
       " 3.0\n",
       " 2.0"
      ]
     },
     "execution_count": 106,
     "metadata": {},
     "output_type": "execute_result"
    }
   ],
   "source": [
    "n = 3.0     # natalité\n",
    "m = 2.0     # morrtalité\n",
    "par_malthus = [n, m] # packing"
   ]
  },
  {
   "cell_type": "code",
   "execution_count": 5,
   "id": "7e2ff98c",
   "metadata": {},
   "outputs": [
    {
     "data": {
      "text/plain": [
       "0.1"
      ]
     },
     "execution_count": 107,
     "metadata": {},
     "output_type": "execute_result"
    }
   ],
   "source": [
    "tspan = (0.0, 5.0)\n",
    "tstep = 0.1"
   ]
  },
  {
   "cell_type": "code",
   "execution_count": 6,
   "id": "37b696a2",
   "metadata": {},
   "outputs": [
    {
     "data": {
      "text/plain": [
       "malthus (generic function with 1 method)"
      ]
     },
     "execution_count": 108,
     "metadata": {},
     "output_type": "execute_result"
    }
   ],
   "source": [
    "function malthus(u, p, t)\n",
    "    n, m = p        # unpacking\n",
    "    x = u[1]        # use x notation\n",
    "    dx = (n-m)x     # no need for multiplication \n",
    "    @SVector [dx]   # return derivative as SVector\n",
    "end"
   ]
  },
  {
   "cell_type": "code",
   "execution_count": 7,
   "id": "b88907a5",
   "metadata": {},
   "outputs": [
    {
     "data": {
      "text/plain": [
       "\u001b[38;2;86;182;194mODEProblem\u001b[0m with uType \u001b[38;2;86;182;194mSVector{1, Float64}\u001b[0m and tType \u001b[38;2;86;182;194mFloat64\u001b[0m. In-place: \u001b[38;2;86;182;194mfalse\u001b[0m\n",
       "timespan: (0.0, 5.0)\n",
       "u0: 1-element SVector{1, Float64} with indices SOneTo(1):\n",
       " 0.1"
      ]
     },
     "execution_count": 109,
     "metadata": {},
     "output_type": "execute_result"
    }
   ],
   "source": [
    "prob_malthus = ODEProblem(malthus,          # modèle\n",
    "                          etat0,            # condition initiale\n",
    "                          tspan,            # tspan\n",
    "                          par_malthus,      # paramètres\n",
    "                          saveat = tstep)   # option de sortie"
   ]
  },
  {
   "cell_type": "code",
   "execution_count": 8,
   "id": "fabffdee",
   "metadata": {},
   "outputs": [
    {
     "data": {
      "text/plain": [
       "51-element Vector{SVector{1, Float64}}:\n",
       " [0.1]\n",
       " [0.1105170918098962]\n",
       " [0.12214028021690636]\n",
       " [0.13498587256890127]\n",
       " [0.1491824967995758]\n",
       " [0.16487211887837677]\n",
       " [0.1822118088926235]\n",
       " [0.2013752759904508]\n",
       " [0.2225541873299437]\n",
       " [0.2459601086193487]\n",
       " [0.27182789212481995]\n",
       " [0.3004165681038553]\n",
       " [0.3320119892325201]\n",
       " ⋮\n",
       " [4.939998877318704]\n",
       " [5.459546563772299]\n",
       " [6.033819931565917]\n",
       " [6.668489858108825]\n",
       " [7.36986008589588]\n",
       " [8.144932560593231]\n",
       " [9.001372810408137]\n",
       " [9.947822344252208]\n",
       " [10.993901057806614]\n",
       " [12.15020723352194]\n",
       " [13.428317540618487]\n",
       " [14.840787035086022]"
      ]
     },
     "execution_count": 110,
     "metadata": {},
     "output_type": "execute_result"
    }
   ],
   "source": [
    "#| output: true\n",
    "sol_malthus = solve(prob_malthus)\n",
    "sol_malthus.u"
   ]
  },
  {
   "cell_type": "code",
   "execution_count": 9,
   "id": "8ab945ff",
   "metadata": {},
   "outputs": [
    {
     "data": {
      "text/html": [
       "<div><div style = \"float: left;\"><span>51×2 DataFrame</span></div><div style = \"float: right;\"><span style = \"font-style: italic;\">26 rows omitted</span></div><div style = \"clear: both;\"></div></div><div class = \"data-frame\" style = \"overflow-x: scroll;\"><table class = \"data-frame\" style = \"margin-bottom: 6px;\"><thead><tr class = \"header\"><th class = \"rowNumber\" style = \"font-weight: bold; text-align: right;\">Row</th><th style = \"text-align: left;\">time</th><th style = \"text-align: left;\">x</th></tr><tr class = \"subheader headerLastRow\"><th class = \"rowNumber\" style = \"font-weight: bold; text-align: right;\"></th><th title = \"Float64\" style = \"text-align: left;\">Float64</th><th title = \"Float64\" style = \"text-align: left;\">Float64</th></tr></thead><tbody><tr><td class = \"rowNumber\" style = \"font-weight: bold; text-align: right;\">1</td><td style = \"text-align: right;\">0.0</td><td style = \"text-align: right;\">0.1</td></tr><tr><td class = \"rowNumber\" style = \"font-weight: bold; text-align: right;\">2</td><td style = \"text-align: right;\">0.1</td><td style = \"text-align: right;\">0.110517</td></tr><tr><td class = \"rowNumber\" style = \"font-weight: bold; text-align: right;\">3</td><td style = \"text-align: right;\">0.2</td><td style = \"text-align: right;\">0.12214</td></tr><tr><td class = \"rowNumber\" style = \"font-weight: bold; text-align: right;\">4</td><td style = \"text-align: right;\">0.3</td><td style = \"text-align: right;\">0.134986</td></tr><tr><td class = \"rowNumber\" style = \"font-weight: bold; text-align: right;\">5</td><td style = \"text-align: right;\">0.4</td><td style = \"text-align: right;\">0.149182</td></tr><tr><td class = \"rowNumber\" style = \"font-weight: bold; text-align: right;\">6</td><td style = \"text-align: right;\">0.5</td><td style = \"text-align: right;\">0.164872</td></tr><tr><td class = \"rowNumber\" style = \"font-weight: bold; text-align: right;\">7</td><td style = \"text-align: right;\">0.6</td><td style = \"text-align: right;\">0.182212</td></tr><tr><td class = \"rowNumber\" style = \"font-weight: bold; text-align: right;\">8</td><td style = \"text-align: right;\">0.7</td><td style = \"text-align: right;\">0.201375</td></tr><tr><td class = \"rowNumber\" style = \"font-weight: bold; text-align: right;\">9</td><td style = \"text-align: right;\">0.8</td><td style = \"text-align: right;\">0.222554</td></tr><tr><td class = \"rowNumber\" style = \"font-weight: bold; text-align: right;\">10</td><td style = \"text-align: right;\">0.9</td><td style = \"text-align: right;\">0.24596</td></tr><tr><td class = \"rowNumber\" style = \"font-weight: bold; text-align: right;\">11</td><td style = \"text-align: right;\">1.0</td><td style = \"text-align: right;\">0.271828</td></tr><tr><td class = \"rowNumber\" style = \"font-weight: bold; text-align: right;\">12</td><td style = \"text-align: right;\">1.1</td><td style = \"text-align: right;\">0.300417</td></tr><tr><td class = \"rowNumber\" style = \"font-weight: bold; text-align: right;\">13</td><td style = \"text-align: right;\">1.2</td><td style = \"text-align: right;\">0.332012</td></tr><tr><td style = \"text-align: right;\">&vellip;</td><td style = \"text-align: right;\">&vellip;</td><td style = \"text-align: right;\">&vellip;</td></tr><tr><td class = \"rowNumber\" style = \"font-weight: bold; text-align: right;\">40</td><td style = \"text-align: right;\">3.9</td><td style = \"text-align: right;\">4.94</td></tr><tr><td class = \"rowNumber\" style = \"font-weight: bold; text-align: right;\">41</td><td style = \"text-align: right;\">4.0</td><td style = \"text-align: right;\">5.45955</td></tr><tr><td class = \"rowNumber\" style = \"font-weight: bold; text-align: right;\">42</td><td style = \"text-align: right;\">4.1</td><td style = \"text-align: right;\">6.03382</td></tr><tr><td class = \"rowNumber\" style = \"font-weight: bold; text-align: right;\">43</td><td style = \"text-align: right;\">4.2</td><td style = \"text-align: right;\">6.66849</td></tr><tr><td class = \"rowNumber\" style = \"font-weight: bold; text-align: right;\">44</td><td style = \"text-align: right;\">4.3</td><td style = \"text-align: right;\">7.36986</td></tr><tr><td class = \"rowNumber\" style = \"font-weight: bold; text-align: right;\">45</td><td style = \"text-align: right;\">4.4</td><td style = \"text-align: right;\">8.14493</td></tr><tr><td class = \"rowNumber\" style = \"font-weight: bold; text-align: right;\">46</td><td style = \"text-align: right;\">4.5</td><td style = \"text-align: right;\">9.00137</td></tr><tr><td class = \"rowNumber\" style = \"font-weight: bold; text-align: right;\">47</td><td style = \"text-align: right;\">4.6</td><td style = \"text-align: right;\">9.94782</td></tr><tr><td class = \"rowNumber\" style = \"font-weight: bold; text-align: right;\">48</td><td style = \"text-align: right;\">4.7</td><td style = \"text-align: right;\">10.9939</td></tr><tr><td class = \"rowNumber\" style = \"font-weight: bold; text-align: right;\">49</td><td style = \"text-align: right;\">4.8</td><td style = \"text-align: right;\">12.1502</td></tr><tr><td class = \"rowNumber\" style = \"font-weight: bold; text-align: right;\">50</td><td style = \"text-align: right;\">4.9</td><td style = \"text-align: right;\">13.4283</td></tr><tr><td class = \"rowNumber\" style = \"font-weight: bold; text-align: right;\">51</td><td style = \"text-align: right;\">5.0</td><td style = \"text-align: right;\">14.8408</td></tr></tbody></table></div>"
      ],
      "text/latex": [
       "\\begin{tabular}{r|cc}\n",
       "\t& time & x\\\\\n",
       "\t\\hline\n",
       "\t& Float64 & Float64\\\\\n",
       "\t\\hline\n",
       "\t1 & 0.0 & 0.1 \\\\\n",
       "\t2 & 0.1 & 0.110517 \\\\\n",
       "\t3 & 0.2 & 0.12214 \\\\\n",
       "\t4 & 0.3 & 0.134986 \\\\\n",
       "\t5 & 0.4 & 0.149182 \\\\\n",
       "\t6 & 0.5 & 0.164872 \\\\\n",
       "\t7 & 0.6 & 0.182212 \\\\\n",
       "\t8 & 0.7 & 0.201375 \\\\\n",
       "\t9 & 0.8 & 0.222554 \\\\\n",
       "\t10 & 0.9 & 0.24596 \\\\\n",
       "\t11 & 1.0 & 0.271828 \\\\\n",
       "\t12 & 1.1 & 0.300417 \\\\\n",
       "\t13 & 1.2 & 0.332012 \\\\\n",
       "\t14 & 1.3 & 0.366929 \\\\\n",
       "\t15 & 1.4 & 0.405519 \\\\\n",
       "\t16 & 1.5 & 0.448168 \\\\\n",
       "\t17 & 1.6 & 0.495303 \\\\\n",
       "\t18 & 1.7 & 0.547395 \\\\\n",
       "\t19 & 1.8 & 0.604963 \\\\\n",
       "\t20 & 1.9 & 0.668584 \\\\\n",
       "\t21 & 2.0 & 0.7389 \\\\\n",
       "\t22 & 2.1 & 0.816615 \\\\\n",
       "\t23 & 2.2 & 0.902501 \\\\\n",
       "\t24 & 2.3 & 0.997418 \\\\\n",
       "\t25 & 2.4 & 1.10231 \\\\\n",
       "\t26 & 2.5 & 1.21823 \\\\\n",
       "\t27 & 2.6 & 1.34635 \\\\\n",
       "\t28 & 2.7 & 1.48796 \\\\\n",
       "\t29 & 2.8 & 1.64446 \\\\\n",
       "\t30 & 2.9 & 1.81741 \\\\\n",
       "\t$\\dots$ & $\\dots$ & $\\dots$ \\\\\n",
       "\\end{tabular}\n"
      ],
      "text/plain": [
       "\u001b[1m51×2 DataFrame\u001b[0m\n",
       "\u001b[1m Row \u001b[0m│\u001b[1m time    \u001b[0m\u001b[1m x         \u001b[0m\n",
       "     │\u001b[90m Float64 \u001b[0m\u001b[90m Float64   \u001b[0m\n",
       "─────┼────────────────────\n",
       "   1 │     0.0   0.1\n",
       "   2 │     0.1   0.110517\n",
       "   3 │     0.2   0.12214\n",
       "   4 │     0.3   0.134986\n",
       "   5 │     0.4   0.149182\n",
       "   6 │     0.5   0.164872\n",
       "   7 │     0.6   0.182212\n",
       "   8 │     0.7   0.201375\n",
       "   9 │     0.8   0.222554\n",
       "  10 │     0.9   0.24596\n",
       "  11 │     1.0   0.271828\n",
       "  ⋮  │    ⋮         ⋮\n",
       "  42 │     4.1   6.03382\n",
       "  43 │     4.2   6.66849\n",
       "  44 │     4.3   7.36986\n",
       "  45 │     4.4   8.14493\n",
       "  46 │     4.5   9.00137\n",
       "  47 │     4.6   9.94782\n",
       "  48 │     4.7  10.9939\n",
       "  49 │     4.8  12.1502\n",
       "  50 │     4.9  13.4283\n",
       "  51 │     5.0  14.8408\n",
       "\u001b[36m           30 rows omitted\u001b[0m"
      ]
     },
     "execution_count": 111,
     "metadata": {},
     "output_type": "execute_result"
    }
   ],
   "source": [
    "#| output: true\n",
    "using DataFrames\n",
    "sol_malthus = DataFrame(sol_malthus)\n",
    "rename!(sol_malthus, :timestamp => :time, :value1 => :x)"
   ]
  }
 ],
 "metadata": {
  "kernelspec": {
   "display_name": "Julia 1.9.4",
   "language": "julia",
   "name": "julia-1.9"
  }
 },
 "nbformat": 4,
 "nbformat_minor": 5
}