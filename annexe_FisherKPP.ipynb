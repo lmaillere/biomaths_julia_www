{
  "cells": [
    {
      "cell_type": "markdown",
      "metadata": {},
      "source": [
        "# Fisher KPP with Julia\n",
        "\n",
        "This implementation of numerical solve of a reaction diffusion equation is based on the [presentation](https://www.youtube.com/watch?v=8gLhaWRYvfQ) of the package `MethodOfLines.jl` at JuliaCon 2022 by A. Jones.\n",
        "\n",
        "## Fisher KPP equation\n",
        "\n",
        "The Fisher KPP equation (Fisher's version) reads (@fisher1937, @Kolmogorov1937):\n",
        "\n",
        "$$\n",
        "\\frac{\\partial u}{\\partial t} = ru\\left(1-u\\right) + D \\frac{\\partial^2 u}{\\partial x^2},\n",
        "$$\n",
        "\n",
        "with $u(t,x)$ the population density at time $t$ and position $x$ (scaled to the local carrying capacity $K$), $r$ the intrinsic growth rate of the population, and $D$ the diffusion coefficient.\n",
        "\n",
        "## Packages\n",
        "\n",
        "Let us first import the packages used for the simulation:\n"
      ],
      "id": "a30e5d52"
    },
    {
      "cell_type": "code",
      "metadata": {},
      "source": [
        "using MethodOfLines,\n",
        "      ModelingToolkit,\n",
        "      DomainSets,\n",
        "      OrdinaryDiffEq,\n",
        "      Plots,\n",
        "      LaTeXStrings"
      ],
      "id": "8c79fdb4",
      "execution_count": null,
      "outputs": []
    },
    {
      "cell_type": "markdown",
      "metadata": {},
      "source": [
        "## Model definition\n",
        "\n",
        "`MethodsOfLines.jl` makes use of `ModelingToolkit.jl` to symbolically define the model to integrate.\n",
        "\n",
        "Let us first define the time and space parameters:\n"
      ],
      "id": "dddbf454"
    },
    {
      "cell_type": "code",
      "metadata": {},
      "source": [
        "@parameters t x"
      ],
      "id": "c260cf43",
      "execution_count": null,
      "outputs": []
    },
    {
      "cell_type": "markdown",
      "metadata": {},
      "source": [
        "The model parameters:\n"
      ],
      "id": "3cf9a69b"
    },
    {
      "cell_type": "code",
      "metadata": {},
      "source": [
        "@parameters r D"
      ],
      "id": "ab34483f",
      "execution_count": null,
      "outputs": []
    },
    {
      "cell_type": "markdown",
      "metadata": {},
      "source": [
        "Now the variable $u(t,x)$:\n"
      ],
      "id": "c04cf7ca"
    },
    {
      "cell_type": "code",
      "metadata": {},
      "source": [
        "@variables u(..)"
      ],
      "id": "eb31abd5",
      "execution_count": null,
      "outputs": []
    },
    {
      "cell_type": "markdown",
      "metadata": {},
      "source": [
        "And finally the derivatives:\n"
      ],
      "id": "85f6480f"
    },
    {
      "cell_type": "code",
      "metadata": {},
      "source": [
        "Dt = Differential(t)\n",
        "Dx = Differential(x)\n",
        "Dxx = Differential(x)^2"
      ],
      "id": "fa7bbc48",
      "execution_count": null,
      "outputs": []
    },
    {
      "cell_type": "markdown",
      "metadata": {},
      "source": [
        "We can now define the model symbolically through:"
      ],
      "id": "eb8925c2"
    },
    {
      "cell_type": "code",
      "metadata": {},
      "source": [
        "#| output: true\n",
        "eq = Dt(u(t, x)) ~ r * u(t,x) * (1-u(t,x)) + D * Dxx(u(t,x))"
      ],
      "id": "ccab9676",
      "execution_count": null,
      "outputs": []
    },
    {
      "cell_type": "markdown",
      "metadata": {},
      "source": [
        "## Domains of integration\n",
        "\n",
        "Let us introduce some parameters for space and time domains:"
      ],
      "id": "e8bb1473"
    },
    {
      "cell_type": "code",
      "metadata": {},
      "source": [
        "x_max = 30.0\n",
        "t_max = 14.0"
      ],
      "id": "51c8ff1b",
      "execution_count": null,
      "outputs": []
    },
    {
      "cell_type": "markdown",
      "metadata": {},
      "source": [
        "And the domains of integration:"
      ],
      "id": "0fe179d5"
    },
    {
      "cell_type": "code",
      "metadata": {},
      "source": [
        "domain = [x ∈ Interval(0.0, x_max),\n",
        "          t ∈ Interval(0.0, t_max)]"
      ],
      "id": "c6f11b49",
      "execution_count": null,
      "outputs": []
    },
    {
      "cell_type": "markdown",
      "metadata": {},
      "source": [
        "We also introduce (initial and) boundary conditions:"
      ],
      "id": "03801e9d"
    },
    {
      "cell_type": "code",
      "metadata": {},
      "source": [
        "ic_bc = [u(0.0, x) ~ 0.0,\n",
        "         u(t, 0.0) ~ 1.0,\n",
        "         u(t, x_max) ~ 0.0]"
      ],
      "id": "f72888a1",
      "execution_count": null,
      "outputs": []
    },
    {
      "cell_type": "markdown",
      "metadata": {},
      "source": [
        "## Simulation\n",
        "\n",
        "We define the model to be integrated as a `PDESystem`, from the equation `eq`, the initial and boundary conditions `ic_bc`, the domains of integration `domain`, the time and space parameters `t` and `x`, the solution we want to retrieve `u(t,x)`, and the model parameters $r$ and $D$:\n"
      ],
      "id": "635b51ef"
    },
    {
      "cell_type": "code",
      "metadata": {},
      "source": [
        "@named sys = PDESystem(eq, ic_bc, domain, [t, x], [u(t,x)], [r => 1.0, D => 1.0])"
      ],
      "id": "f91b1c8b",
      "execution_count": null,
      "outputs": []
    },
    {
      "cell_type": "markdown",
      "metadata": {},
      "source": [
        "We set up the discretization of space, through `MethodOfLines.jl`:\n"
      ],
      "id": "ea23a46a"
    },
    {
      "cell_type": "code",
      "metadata": {},
      "source": [
        "dx = 0.1\n",
        "discretization = MOLFiniteDifference([x => dx], t)"
      ],
      "id": "ae83427e",
      "execution_count": null,
      "outputs": []
    },
    {
      "cell_type": "markdown",
      "metadata": {},
      "source": [
        "And we set up the (ODE) problem to be integrated:"
      ],
      "id": "03606c55"
    },
    {
      "cell_type": "code",
      "metadata": {},
      "source": [
        "prob = discretize(sys, discretization)"
      ],
      "id": "ac546878",
      "execution_count": null,
      "outputs": []
    },
    {
      "cell_type": "markdown",
      "metadata": {},
      "source": [
        "And we finally integrate it through the `OrdinaryDiffEq.jl` solver with `Tsit5` algorithm.\n"
      ],
      "id": "d8e097a3"
    },
    {
      "cell_type": "code",
      "metadata": {},
      "source": [
        "sol = solve(prob, Tsit5(), saveat = .1)"
      ],
      "id": "dfa888f3",
      "execution_count": null,
      "outputs": []
    },
    {
      "cell_type": "markdown",
      "metadata": {},
      "source": [
        "## Graphical representation\n",
        "\n",
        "We retrieve the components of the solution for easier manipulation:\n"
      ],
      "id": "49711f71"
    },
    {
      "cell_type": "code",
      "metadata": {},
      "source": [
        "gridx = sol[x]"
      ],
      "id": "109e20b8",
      "execution_count": null,
      "outputs": []
    },
    {
      "cell_type": "code",
      "metadata": {},
      "source": [
        "gridt = sol[t]"
      ],
      "id": "8117f077",
      "execution_count": null,
      "outputs": []
    },
    {
      "cell_type": "code",
      "metadata": {},
      "source": [
        "solu = sol[u(t,x)]"
      ],
      "id": "083c662f",
      "execution_count": null,
      "outputs": []
    },
    {
      "cell_type": "markdown",
      "metadata": {},
      "source": [
        "And we plot the animation of the solution through time:"
      ],
      "id": "9365a023"
    },
    {
      "cell_type": "code",
      "metadata": {},
      "source": [
        "#| output: true\n",
        "anim = @animate for i in eachindex(gridt)\n",
        "    plot(gridx, solu[i, :],\n",
        "         xlabel = \"position \"*L\"$x$\",\n",
        "         ylabel = \"population density \"*L\"$u$\",\n",
        "         label = L\"$u(x,t)$\",\n",
        "         title = \"t=$(gridt[i])\")\n",
        "end\n",
        "\n",
        "gif(anim, \"fisherKPP.gif\", fps = 10)"
      ],
      "id": "2a54f065",
      "execution_count": null,
      "outputs": []
    },
    {
      "cell_type": "markdown",
      "metadata": {},
      "source": [
        "\\\n",
        "\n",
        "And that's it !"
      ],
      "id": "aab5daea"
    }
  ],
  "metadata": {
    "kernelspec": {
      "name": "julia-1.10",
      "language": "julia",
      "display_name": "Julia 1.10.0"
    }
  },
  "nbformat": 4,
  "nbformat_minor": 5
}