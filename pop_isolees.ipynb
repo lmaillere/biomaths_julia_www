{
  "cells": [
    {
      "cell_type": "raw",
      "metadata": {},
      "source": [
        "---\n",
        "title: \"Populations isolées\"\n",
        "---"
      ],
      "id": "4c47e538"
    },
    {
      "cell_type": "markdown",
      "metadata": {},
      "source": [
        "## Le modèle de Malthus {#sec-malthus}\n",
        "\n",
        "Nous considérons le modèle proposé par @malthus :\n",
        "$$\n",
        "\\dot x = (n-m)x,\n",
        "$$ {#eq-malthus}\n",
        "avec $n$ le taux de natalité, et $m$ le taux de mortalité.\n",
        "\n",
        "### Préliminaires\n",
        "\n",
        "Pour simuler ce modèle, c'est à dire intégrer numériquement les solutions au problème de Cauchy correspondant à l'@eq-malthus avec $x(0)=x_0\\geq0$, nous allons utiliser les routines de `DifferentialEquations.jl` avec la méthode par défaut. Nous utiliserons aussi le package `Plots.jl` pour les représentations graphiques^[si vous n'avez jamais installé un package, il faudra commencer par le faire avant de pouvoir l'utiliser...].\n"
      ],
      "id": "e5a61add"
    },
    {
      "cell_type": "code",
      "metadata": {},
      "source": [
        "using Plots, DifferentialEquations"
      ],
      "id": "16d49528",
      "execution_count": null,
      "outputs": []
    },
    {
      "cell_type": "markdown",
      "metadata": {},
      "source": [
        "### Conditions initiales, paramètres et temps\n",
        "\n",
        "Nous définissions la condition initiale de la simulation :\n"
      ],
      "id": "60276444"
    },
    {
      "cell_type": "code",
      "metadata": {},
      "source": [
        "x0 = 0.1"
      ],
      "id": "520a1208",
      "execution_count": null,
      "outputs": []
    },
    {
      "cell_type": "markdown",
      "metadata": {},
      "source": [
        "Nous définissons les paramètres, et les encapsulons dans un vecteur de paramètres :\n"
      ],
      "id": "761b5b8e"
    },
    {
      "cell_type": "code",
      "metadata": {},
      "source": [
        "n = 3.0     # natalité\n",
        "m = 2.0     # morrtalité\n",
        "par_malthus = [n, m] # packing"
      ],
      "id": "e8d1e34c",
      "execution_count": null,
      "outputs": []
    },
    {
      "cell_type": "markdown",
      "metadata": {},
      "source": [
        "Enfin, les propriétés du temps d'intégration :"
      ],
      "id": "32f83f56"
    },
    {
      "cell_type": "code",
      "metadata": {},
      "source": [
        "tspan = (0.0, 10.0)\n",
        "tstep = 0.1"
      ],
      "id": "973a1190",
      "execution_count": null,
      "outputs": []
    },
    {
      "cell_type": "markdown",
      "metadata": {},
      "source": [
        "### Système dynamique\n",
        "\n",
        "On définit le modèle comme une fonction renvoyant la dérivée de $x$ (comme `SVector`) en fonction de l'état, de paramètres, et du temps. L'ordre des arguments est important, c'est sous cette forme que les routines d'intégration attendent le modèle.\n"
      ],
      "id": "bdbe5ab8"
    },
    {
      "cell_type": "code",
      "metadata": {},
      "source": [
        "function malthus(u, p, t)\n",
        "    n, m = p        # unpacking\n",
        "    x = u[1]        # use x notation\n",
        "    dx = (n-m)x     # return derivative\n",
        "end"
      ],
      "id": "e39efc56",
      "execution_count": null,
      "outputs": []
    },
    {
      "cell_type": "markdown",
      "metadata": {},
      "source": [
        "### Intégration\n",
        "\n",
        "On commence par définir le problème de Cauchy à intégrer, comme un `ODEProblem` avec arguments: le modèle, la condition initiale, les bornes d'intégration, les paramètres ainsi que l'option `saveat = tstep` permettant de récupérer la solution tout les `tstep` pas de temps (il y a plein d'options de sortie de l'intégration, dont même une fonction du temps !)\n"
      ],
      "id": "e3c22703"
    },
    {
      "cell_type": "code",
      "metadata": {},
      "source": [
        "prob_malthus = ODEProblem(malthus,          # modèle\n",
        "                          x0,               # condition initiale\n",
        "                          tspan,            # tspan\n",
        "                          par_malthus,      # paramètres\n",
        "                          saveat = tstep)   # option de sortie"
      ],
      "id": "f9cd19b8",
      "execution_count": null,
      "outputs": []
    },
    {
      "cell_type": "markdown",
      "metadata": {},
      "source": [
        "On intègre le modèle via `solve`, défini par `DifferentialEquations.jl` pour des `struct` de type `ODEProblem` :\n"
      ],
      "id": "3e5e3ae0"
    },
    {
      "cell_type": "code",
      "metadata": {},
      "source": [
        "sol_malthus = solve(prob_malthus)"
      ],
      "id": "13d44c16",
      "execution_count": null,
      "outputs": []
    },
    {
      "cell_type": "markdown",
      "metadata": {},
      "source": [
        "Le type de solution renvoyée par le solveur est assez complexe et comprend de nombreux champs informatifs sur le calcul. On peut accéder au temps de simulation via `sol_malthus.t` :\n"
      ],
      "id": "3df460a4"
    },
    {
      "cell_type": "code",
      "metadata": {},
      "source": [
        "#| output: true\n",
        "first(sol_malthus.t, 3)"
      ],
      "id": "4c5de5c6",
      "execution_count": null,
      "outputs": []
    },
    {
      "cell_type": "markdown",
      "metadata": {},
      "source": [
        "ainsi qu'aux valeurs de la variable $x$ calculées le long du temps via `sol_matlhus.u` :\n"
      ],
      "id": "9728e41d"
    },
    {
      "cell_type": "code",
      "metadata": {},
      "source": [
        "#| output: true\n",
        "first(sol_malthus.u, 3)"
      ],
      "id": "e2fa2214",
      "execution_count": null,
      "outputs": []
    },
    {
      "cell_type": "markdown",
      "metadata": {},
      "source": [
        "Même si ce n'est pas indispensable, il est possible de transformer la solution renvoyée facilement en `DataFrame`, qui peut permettre des manipulations plus faciles.\n"
      ],
      "id": "2a00877d"
    },
    {
      "cell_type": "code",
      "metadata": {},
      "source": [
        "using DataFrames\n",
        "\n",
        "sol_malthus = DataFrame(sol_malthus)\n",
        "rename!(sol_malthus, :timestamp => :time, :value => :x)"
      ],
      "id": "779502f1",
      "execution_count": null,
      "outputs": []
    },
    {
      "cell_type": "markdown",
      "metadata": {},
      "source": [
        "si bien que :\n"
      ],
      "id": "4920f239"
    },
    {
      "cell_type": "code",
      "metadata": {},
      "source": [
        "#| output: true\n",
        "first(sol_malthus, 3)"
      ],
      "id": "3d66d3d9",
      "execution_count": null,
      "outputs": []
    },
    {
      "cell_type": "markdown",
      "metadata": {},
      "source": [
        "### Représentation graphique\n",
        "\n",
        "\n",
        "On peut représenter graphiquement la simulation de la croissance de la population au cours du temps (ici via le dataframe).\n"
      ],
      "id": "6b263ae5"
    },
    {
      "cell_type": "code",
      "metadata": {},
      "source": [
        "#| output: true\n",
        "plot(sol_malthus.time, sol_malthus.x,\n",
        "    palette = :tab10,\n",
        "    linewidth = 2,\n",
        "    title = \"\\n Modèle de Malthus \\$n=$n, m=$m\\$\",\n",
        "    label = \"population \\$x\\$\",\n",
        "    ylabel = \"densité de population \\$x(t)\\$\",\n",
        "    xlabel = \"temps \\$t\\$\",\n",
        "    margin = .5Plots.cm,\n",
        "    topmargin = 1Plots.cm)"
      ],
      "id": "ea4037d4",
      "execution_count": null,
      "outputs": []
    },
    {
      "cell_type": "markdown",
      "metadata": {},
      "source": [
        "## Le modèle logistique {#sec-logistic}\n",
        "\n",
        "Nous considérons ici le modèle \"logistique\" proposé par @verhulst1838 :\n",
        "\n",
        "$$\n",
        "\\dot x = r x \\left(1-\\frac{x}{K}\\right),\n",
        "$$ {#eq-logistic}\n",
        "avec $r$ le taux de croissance intrinsèque de la population et $K$ la capacité de charge de l'environnement.\n",
        "\n",
        "\n",
        "Il n'y a pas de difficulté particulière par rapport aux simulations précedentes. On va réutiliser la condition initiale et les paramètres de temps définis précédemment.\n",
        "\n",
        "Il faut cependant définir les paramètres du modèle @eq-logistic :"
      ],
      "id": "d9cdb631"
    },
    {
      "cell_type": "code",
      "metadata": {},
      "source": [
        "#| code-fold: true\n",
        "r = 1.0      # natalité\n",
        "K = 10.0     # morrtalité\n",
        "par_logistic = [r, K] # packing"
      ],
      "id": "65bb903c",
      "execution_count": null,
      "outputs": []
    },
    {
      "cell_type": "markdown",
      "metadata": {},
      "source": [
        "ainsi que le nouveau système dynamique :"
      ],
      "id": "d5a661d5"
    },
    {
      "cell_type": "code",
      "metadata": {},
      "source": [
        "#| code-fold: true\n",
        "function logistic(u, p, t)\n",
        "    r, K = p            # unpacking\n",
        "    x = u[1]            # use x notation\n",
        "    dx = r*x*(1-x/K)    # return derivative\n",
        "end"
      ],
      "id": "5f68f6a3",
      "execution_count": null,
      "outputs": []
    },
    {
      "cell_type": "markdown",
      "metadata": {},
      "source": [
        "et le problème de Cauchy correspondant :"
      ],
      "id": "70eba754"
    },
    {
      "cell_type": "code",
      "metadata": {},
      "source": [
        "#| code-fold: true\n",
        "prob_logistic = ODEProblem(logistic,        # modèle\n",
        "                          x0,               # condition initiale\n",
        "                          tspan,            # tspan\n",
        "                          par_logistic,     # paramètres\n",
        "                          saveat = tstep)   # option de sortie"
      ],
      "id": "c26387dc",
      "execution_count": null,
      "outputs": []
    },
    {
      "cell_type": "markdown",
      "metadata": {},
      "source": [
        "On simule et on transforme la solution en dataframe :"
      ],
      "id": "13ce8be3"
    },
    {
      "cell_type": "code",
      "metadata": {},
      "source": [
        "#| code-fold: true\n",
        "sol_logistic = solve(prob_logistic)\n",
        "\n",
        "sol_logistic = DataFrame(sol_logistic)\n",
        "rename!(sol_logistic, :timestamp => :time, :value => :x)"
      ],
      "id": "bf096e86",
      "execution_count": null,
      "outputs": []
    },
    {
      "cell_type": "markdown",
      "metadata": {},
      "source": [
        "On trace la solution, en rajoutant les équilibres stable ($x=K$) et instable ($x=0$) :"
      ],
      "id": "fd86642e"
    },
    {
      "cell_type": "code",
      "metadata": {},
      "source": [
        "#| code-fold: true\n",
        "#| output: true\n",
        "# solution\n",
        "plot(sol_logistic.time, sol_logistic.x,\n",
        "    palette = :tab10,\n",
        "    linewidth = 2,\n",
        "    title = \"\\n Modèle logistique \\$r=$r, K=$K\\$\",\n",
        "    label = \"population \\$x\\$\",\n",
        "    legend = :right,\n",
        "    ylabel = \"densité de population \\$x(t)\\$\",\n",
        "    xlabel = \"temps \\$t\\$\",\n",
        "    margin = .5Plots.cm,\n",
        "    topmargin = 1Plots.cm)\n",
        "\n",
        "# équilibre 0\n",
        "plot!(sol_logistic.time, zeros(length(sol_logistic.time)),\n",
        "      color = \"red\",\n",
        "      linewidth = 2,\n",
        "      linestyle = :dash,\n",
        "      linealpha = .5,\n",
        "      label = \"équilibre instable\")\n",
        "\n",
        "# équilibre 1\n",
        "plot!(sol_logistic.time, ones(length(sol_logistic.time)).*K,\n",
        "      color = \"green\",\n",
        "      linewidth = 2,\n",
        "      linestyle = :dash,\n",
        "      linealpha = .5,\n",
        "      label = \"équilibre stable\")"
      ],
      "id": "172101f9",
      "execution_count": null,
      "outputs": []
    },
    {
      "cell_type": "markdown",
      "metadata": {},
      "source": [
        "\\\n",
        "\n",
        "\n",
        "## Effets Allee {#sec-allee}\n",
        "\n",
        "On s'intéresse à un modèle de dynamique de population avec \"effets Allee forts\", souvent attribué à @gruntfest1997^[mais de nombreuses variations de cette forme polynomiale existent dans la littérature depuis @bazykin1985] :\n",
        "\n",
        "$$\n",
        "\\dot x = r x \\left(\\frac{x}{\\epsilon}-1\\right)\\left(1-\\frac{x}{K}\\right),\n",
        "$$ {#eq-allee}\n",
        "avec $r$ le taux de croissance intrinsèque de la population (par analogie avec la logistique), $K$ la capacité de charge de l'environnement et $\\epsilon$ le seuil en dessous duquel la population n'est pas viable ('seuil de Allee').\n",
        "\n",
        "Nous souhaitons illustrer la bistabilité caractéristique du comportement de ce modèle à partir de la simulation depuis plusieurs conditions initiales.\n",
        "\n",
        "Commençons par définir le modèle et les paramètres (en conservant les $r$ et $K$ précédents):"
      ],
      "id": "274bcf67"
    },
    {
      "cell_type": "code",
      "metadata": {},
      "source": [
        "#| code-fold: true\n",
        "epsilon = 2                 # seuil de Allee\n",
        "par_allee = [r, K, epsilon] # packing\n",
        "tspan_allee = (0.0, 3.0)\n",
        "\n",
        "function allee(u, p, t)\n",
        "    r, K, epsilon = p        # unpacking\n",
        "    x = u[1]                 # use x notation\n",
        "    dx = r*x*(x/epsilon - 1)*(1 - x/K)     # return derivative\n",
        "end"
      ],
      "id": "1ef6b795",
      "execution_count": null,
      "outputs": []
    },
    {
      "cell_type": "markdown",
      "metadata": {},
      "source": [
        "Nous définissons une fonction qui réalise une simulation en un seul appel :\n"
      ],
      "id": "dff0c017"
    },
    {
      "cell_type": "code",
      "metadata": {},
      "source": [
        "function int_allee(x0, tspan = tspan_allee, param = par_allee)\n",
        "    prob_allee = ODEProblem(allee,          # modèle\n",
        "                          x0,               # condition initiale\n",
        "                          tspan,            # tspan\n",
        "                          param,            # paramètres\n",
        "                          saveat = tstep)   # option de sortie\n",
        "\n",
        "    sol_allee = solve(prob_allee)\n",
        "    sol_allee = DataFrame(sol_allee)\n",
        "    rename!(sol_allee, :timestamp => :time, :value => :x)\n",
        "end"
      ],
      "id": "8c3b4560",
      "execution_count": null,
      "outputs": []
    },
    {
      "cell_type": "markdown",
      "metadata": {},
      "source": [
        "Nous définissons un vecteur de conditions initiales différentes :"
      ],
      "id": "c43f3fd8"
    },
    {
      "cell_type": "code",
      "metadata": {},
      "source": [
        "x0step = 1.35\n",
        "x0vec = x0step:x0step:K"
      ],
      "id": "495eafa7",
      "execution_count": null,
      "outputs": []
    },
    {
      "cell_type": "markdown",
      "metadata": {},
      "source": [
        "Finalement on réalise la figure, en initiant un graphique `P` et en faisant une boucle pour tracer chacune des simulations correspondant aux différentes conditions initiales :"
      ],
      "id": "a02218c0"
    },
    {
      "cell_type": "code",
      "metadata": {},
      "source": [
        "#| output: true\n",
        "# custom color palette\n",
        "init_cgrad = palette([:steelblue, :lightblue], length(x0vec))\n",
        "\n",
        "# initialisation du graphique\n",
        "P = plot(palette = init_cgrad,\n",
        "         title = \"\\n Modèle à effets Allee \\$r=$r, K=$K\\$, \\$ϵ=$epsilon\\$\",\n",
        "         legend = :right,\n",
        "         ylabel = \"densité de population \\$x(t)\\$\",\n",
        "         xlabel = \"temps \\$t\\$\",\n",
        "         margin = .5Plots.cm,\n",
        "         topmargin = 1Plots.cm)\n",
        "\n",
        "# boucle de plot avec intégration pour differentes conditions initiales\n",
        "for x0 in x0vec\n",
        "    plot!(P, int_allee(x0).time, int_allee(x0).x,\n",
        "          linewidth = 2,\n",
        "          label = \"\")\n",
        "end\n",
        "\n",
        "# équilibres\n",
        "plot!(P, int_allee(0).time, zeros(length(int_allee(0).time)),\n",
        "      color = \"green\",\n",
        "      linewidth = 2,\n",
        "      linestyle = :dash,\n",
        "      linealpha = .5,\n",
        "      label = \"équilibre stable\")\n",
        "plot!(P, int_allee(0).time, ones(length(int_allee(0).time)).*epsilon,\n",
        "      color = \"red\",\n",
        "      linewidth = 2,\n",
        "      linestyle = :dash,\n",
        "      linealpha = .5,\n",
        "      label = \"équilibre instable\")\n",
        "plot!(P, int_allee(0).time, ones(length(int_allee(0).time)).*K,\n",
        "      color = \"green\",\n",
        "      linewidth = 2,\n",
        "      linestyle = :dash,\n",
        "      linealpha = .5,\n",
        "      label = \"\")\n",
        "\n",
        "display(P)      # actually shows the plot P"
      ],
      "id": "0d682b23",
      "execution_count": null,
      "outputs": []
    },
    {
      "cell_type": "markdown",
      "metadata": {},
      "source": [
        "\\\n",
        "\n",
        "Passons aux [populations exploitées](pop_exploitees.qmd).\n"
      ],
      "id": "c69c2bfb"
    }
  ],
  "metadata": {
    "kernelspec": {
      "name": "julia-1.9",
      "language": "julia",
      "display_name": "Julia 1.9.4"
    }
  },
  "nbformat": 4,
  "nbformat_minor": 5
}